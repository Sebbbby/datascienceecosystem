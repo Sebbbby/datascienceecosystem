{
  "metadata": {
    "language_info": {
      "codemirror_mode": {
        "name": "python",
        "version": 3
      },
      "file_extension": ".py",
      "mimetype": "text/x-python",
      "name": "python",
      "nbconvert_exporter": "python",
      "pygments_lexer": "ipython3",
      "version": "3.8"
    },
    "kernelspec": {
      "name": "python",
      "display_name": "Python (Pyodide)",
      "language": "python"
    }
  },
  "nbformat_minor": 4,
  "nbformat": 4,
  "cells": [
    {
      "cell_type": "markdown",
      "source": "# Data Science Tools and Ecosystem",
      "metadata": {}
    },
    {
      "cell_type": "markdown",
      "source": "## Author",
      "metadata": {}
    },
    {
      "cell_type": "markdown",
      "source": "#### Elan Divine",
      "metadata": {}
    },
    {
      "cell_type": "markdown",
      "source": "#### **Objectives**",
      "metadata": {}
    },
    {
      "cell_type": "markdown",
      "source": "-List Popular Languages",
      "metadata": {}
    },
    {
      "cell_type": "markdown",
      "source": "-List Popular Libraries for Data Science",
      "metadata": {}
    },
    {
      "cell_type": "markdown",
      "source": "-List Popular Data Science Tools",
      "metadata": {}
    },
    {
      "cell_type": "markdown",
      "source": "### In this notebook, Data Science Tools and Ecosystem are summarized.",
      "metadata": {}
    },
    {
      "cell_type": "markdown",
      "source": "### Some of the popular languages that Data Scientists use are:",
      "metadata": {}
    },
    {
      "cell_type": "markdown",
      "source": "1. Python\n2. R\n3. SQL ",
      "metadata": {}
    },
    {
      "cell_type": "code",
      "source": "### Some of the commonly used libraries used by Data Scientists include:",
      "metadata": {},
      "execution_count": null,
      "outputs": []
    },
    {
      "cell_type": "markdown",
      "source": "1. PANDAS\n2. NUMPY\n3. SCIPY",
      "metadata": {}
    },
    {
      "cell_type": "markdown",
      "source": "------Data Science Tools------",
      "metadata": {}
    },
    {
      "cell_type": "markdown",
      "source": "-MySQL",
      "metadata": {}
    },
    {
      "cell_type": "markdown",
      "source": "-Apache CouchDB",
      "metadata": {}
    },
    {
      "cell_type": "markdown",
      "source": "-KubeFlow",
      "metadata": {}
    },
    {
      "cell_type": "markdown",
      "source": "### Below are a few examples of evaluating arithmetic expressions in Python",
      "metadata": {}
    },
    {
      "cell_type": "raw",
      "source": "This a simple arithmetic expression to mutiply then add integers.",
      "metadata": {}
    },
    {
      "cell_type": "code",
      "source": "(3*4)+5",
      "metadata": {
        "trusted": true
      },
      "execution_count": 6,
      "outputs": [
        {
          "execution_count": 6,
          "output_type": "execute_result",
          "data": {
            "text/plain": "17"
          },
          "metadata": {}
        }
      ]
    },
    {
      "cell_type": "raw",
      "source": "This will convert 200 minutes to hours by diving by 60.",
      "metadata": {}
    },
    {
      "cell_type": "code",
      "source": "200/60",
      "metadata": {
        "trusted": true
      },
      "execution_count": 7,
      "outputs": [
        {
          "execution_count": 7,
          "output_type": "execute_result",
          "data": {
            "text/plain": "3.3333333333333335"
          },
          "metadata": {}
        }
      ]
    },
    {
      "cell_type": "code",
      "source": "",
      "metadata": {},
      "execution_count": null,
      "outputs": []
    }
  ]
}