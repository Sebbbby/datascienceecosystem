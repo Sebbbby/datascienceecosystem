{
  "cells": [
    {
      "cell_type": "markdown",
      "metadata": {},
      "source": [
        "# H1: Data Science Tools and Ecosystem"
      ]
    },
    {
      "cell_type": "markdown",
      "metadata": {},
      "source": [
        "## Author"
      ]
    },
    {
      "cell_type": "markdown",
      "metadata": {},
      "source": [
        "#### Elan Divine"
      ]
    },
    {
      "cell_type": "markdown",
      "metadata": {},
      "source": [
        "#### **Objectives**"
      ]
    },
    {
      "cell_type": "markdown",
      "metadata": {},
      "source": [
        "-List Popular Languages"
      ]
    },
    {
      "cell_type": "markdown",
      "metadata": {},
      "source": [
        "-List Popular Libraries for Data Science"
      ]
    },
    {
      "cell_type": "markdown",
      "metadata": {},
      "source": [
        "-List Popular Data Science Tools"
      ]
    },
    {
      "cell_type": "markdown",
      "metadata": {},
      "source": [
        "### In this notebook, Data Science Tools and Ecosystem are summarized."
      ]
    },
    {
      "cell_type": "markdown",
      "metadata": {},
      "source": [
        "### Some of the popular languages that Data Scientists use are:"
      ]
    },
    {
      "cell_type": "markdown",
      "metadata": {},
      "source": [
        "1. Python\n",
        "2. R\n",
        "3. SQL "
      ]
    },
    {
      "cell_type": "code",
      "execution_count": null,
      "metadata": {},
      "outputs": [
        {
          "ename": "",
          "evalue": "",
          "output_type": "error",
          "traceback": [
            "\u001b[1;31mJupyter cannot be started. Error attempting to locate jupyter: Running cells with 'Python 3.10.4 64-bit' requires jupyter and notebook package.\n",
            "Run the following command to install 'jupyter and notebook' into the Python environment. \n",
            "Command: 'python -m pip install jupyter notebook -U\n",
            "or\n",
            "conda install jupyter notebook -U'\n",
            "Click <a href='https://aka.ms/installJupyterForVSCode'>here</a> for more info."
          ]
        }
      ],
      "source": [
        "### Some of the commonly used libraries used by Data Scientists include:"
      ]
    },
    {
      "cell_type": "markdown",
      "metadata": {},
      "source": [
        "1. PANDAS\n",
        "2. NUMPY\n",
        "3. SCIPY"
      ]
    },
    {
      "cell_type": "markdown",
      "metadata": {},
      "source": [
        "------Data Science Tools------"
      ]
    },
    {
      "cell_type": "markdown",
      "metadata": {},
      "source": [
        "-MySQL"
      ]
    },
    {
      "cell_type": "markdown",
      "metadata": {},
      "source": [
        "-Apache CouchDB"
      ]
    },
    {
      "cell_type": "markdown",
      "metadata": {},
      "source": [
        "-KubeFlow"
      ]
    },
    {
      "cell_type": "markdown",
      "metadata": {},
      "source": [
        "### Below are a few examples of evaluating arithmetic expressions in Python"
      ]
    },
    {
      "cell_type": "raw",
      "metadata": {},
      "source": [
        "This a simple arithmetic expression to mutiply then add integers."
      ]
    },
    {
      "cell_type": "code",
      "execution_count": null,
      "metadata": {
        "trusted": true
      },
      "outputs": [
        {
          "data": {
            "text/plain": [
              "17"
            ]
          },
          "execution_count": 6,
          "metadata": {},
          "output_type": "execute_result"
        },
        {
          "ename": "",
          "evalue": "",
          "output_type": "error",
          "traceback": [
            "\u001b[1;31mJupyter cannot be started. Error attempting to locate jupyter: Running cells with 'Python 3.10.4 64-bit' requires jupyter and notebook package.\n",
            "Run the following command to install 'jupyter and notebook' into the Python environment. \n",
            "Command: 'python -m pip install jupyter notebook -U\n",
            "or\n",
            "conda install jupyter notebook -U'\n",
            "Click <a href='https://aka.ms/installJupyterForVSCode'>here</a> for more info."
          ]
        }
      ],
      "source": [
        "(3*4)+5"
      ]
    },
    {
      "cell_type": "raw",
      "metadata": {},
      "source": [
        "This will convert 200 minutes to hours by diving by 60."
      ]
    },
    {
      "cell_type": "code",
      "execution_count": null,
      "metadata": {
        "trusted": true
      },
      "outputs": [
        {
          "data": {
            "text/plain": [
              "3.3333333333333335"
            ]
          },
          "execution_count": 7,
          "metadata": {},
          "output_type": "execute_result"
        },
        {
          "ename": "",
          "evalue": "",
          "output_type": "error",
          "traceback": [
            "\u001b[1;31mJupyter cannot be started. Error attempting to locate jupyter: Running cells with 'Python 3.10.4 64-bit' requires jupyter and notebook package.\n",
            "Run the following command to install 'jupyter and notebook' into the Python environment. \n",
            "Command: 'python -m pip install jupyter notebook -U\n",
            "or\n",
            "conda install jupyter notebook -U'\n",
            "Click <a href='https://aka.ms/installJupyterForVSCode'>here</a> for more info."
          ]
        }
      ],
      "source": [
        "200/60"
      ]
    },
    {
      "cell_type": "code",
      "execution_count": null,
      "metadata": {},
      "outputs": [
        {
          "ename": "",
          "evalue": "",
          "output_type": "error",
          "traceback": [
            "\u001b[1;31mJupyter cannot be started. Error attempting to locate jupyter: Running cells with 'Python 3.10.4 64-bit' requires jupyter and notebook package.\n",
            "Run the following command to install 'jupyter and notebook' into the Python environment. \n",
            "Command: 'python -m pip install jupyter notebook -U\n",
            "or\n",
            "conda install jupyter notebook -U'\n",
            "Click <a href='https://aka.ms/installJupyterForVSCode'>here</a> for more info."
          ]
        }
      ],
      "source": []
    }
  ],
  "metadata": {
    "interpreter": {
      "hash": "aee8b7b246df8f9039afb4144a1f6fd8d2ca17a180786b69acc140d282b71a49"
    },
    "kernelspec": {
      "display_name": "Python 3.10.4 64-bit",
      "language": "python",
      "name": "python3"
    },
    "language_info": {
      "codemirror_mode": {
        "name": "python",
        "version": 3
      },
      "file_extension": ".py",
      "mimetype": "text/x-python",
      "name": "python",
      "nbconvert_exporter": "python",
      "pygments_lexer": "ipython3",
      "version": "3.10.4"
    }
  },
  "nbformat": 4,
  "nbformat_minor": 4
}
